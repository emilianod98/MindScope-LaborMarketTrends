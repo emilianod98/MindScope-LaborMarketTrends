{
 "cells": [
  {
   "cell_type": "code",
   "execution_count": 1,
   "metadata": {},
   "outputs": [],
   "source": [
    "# Importing all the neccessary libraries\n",
    "import pandas as pd # To load files and perform tasks\n",
    "import numpy as np # linear algebra\n",
    "import seaborn as sns  # data visualizations\n",
    "import matplotlib.pyplot as plt # data visualizations"
   ]
  },
  {
   "cell_type": "code",
   "execution_count": null,
   "metadata": {},
   "outputs": [],
   "source": [
    "#import plotly  #  interactive plotting library "
   ]
  },
  {
   "cell_type": "code",
   "execution_count": 2,
   "metadata": {},
   "outputs": [],
   "source": [
    "df_cn= pd.read_csv(\"datasets/country_names_2_digit_codes.csv\")\n",
    "df_ce= pd.read_csv(\"datasets/currency_exchange.csv\")\n",
    "df_cex= pd.read_csv(\"datasets/glassdoor_benefits_comments.csv\")\n",
    "df_cnh= pd.read_csv(\"datasets/glassdoor_benefits_highlights.csv\")\n",
    "df_cnc= pd.read_csv(\"datasets/glassdoor_breadCrumbs.csv\")\n",
    "df_goc= pd.read_csv(\"datasets/glassdoor_overview_competitors.csv\")\n",
    "df_f= pd.read_csv(\"datasets/glassdoor_photos.csv\")\n",
    "df_grv= pd.read_csv(\"datasets/glassdoor_reviews_val_reviewResponses.csv\")\n",
    "df_gr= pd.read_csv(\"datasets/glassdoor_reviews.csv\")\n",
    "df_gss= pd.read_csv(\"datasets/glassdoor_salary_salaries.csv\")\n",
    "df_gwv= pd.read_csv(\"datasets/glassdoor_wwfu_val_captions.csv\")\n",
    "df_gwvp= pd.read_csv(\"datasets/glassdoor_wwfu_val_photos.csv\")\n",
    "df_gwvv= pd.read_csv(\"datasets/glassdoor_wwfu_val_videos.csv\")\n",
    "df_gww= pd.read_csv(\"datasets/glassdoor_wwfu.csv\")\n",
    "df_g= pd.read_csv(\"datasets/glassdoor.csv\")"
   ]
  },
  {
   "cell_type": "code",
   "execution_count": 3,
   "metadata": {},
   "outputs": [
    {
     "data": {
      "text/html": [
       "<div>\n",
       "<style scoped>\n",
       "    .dataframe tbody tr th:only-of-type {\n",
       "        vertical-align: middle;\n",
       "    }\n",
       "\n",
       "    .dataframe tbody tr th {\n",
       "        vertical-align: top;\n",
       "    }\n",
       "\n",
       "    .dataframe thead th {\n",
       "        text-align: right;\n",
       "    }\n",
       "</style>\n",
       "<table border=\"1\" class=\"dataframe\">\n",
       "  <thead>\n",
       "    <tr style=\"text-align: right;\">\n",
       "      <th></th>\n",
       "      <th>Name</th>\n",
       "      <th>Code</th>\n",
       "    </tr>\n",
       "  </thead>\n",
       "  <tbody>\n",
       "    <tr>\n",
       "      <th>0</th>\n",
       "      <td>Afghanistan</td>\n",
       "      <td>AF</td>\n",
       "    </tr>\n",
       "    <tr>\n",
       "      <th>1</th>\n",
       "      <td>Ã…land Islands</td>\n",
       "      <td>AX</td>\n",
       "    </tr>\n",
       "    <tr>\n",
       "      <th>2</th>\n",
       "      <td>Albania</td>\n",
       "      <td>AL</td>\n",
       "    </tr>\n",
       "    <tr>\n",
       "      <th>3</th>\n",
       "      <td>Algeria</td>\n",
       "      <td>DZ</td>\n",
       "    </tr>\n",
       "    <tr>\n",
       "      <th>4</th>\n",
       "      <td>American Samoa</td>\n",
       "      <td>AS</td>\n",
       "    </tr>\n",
       "    <tr>\n",
       "      <th>...</th>\n",
       "      <td>...</td>\n",
       "      <td>...</td>\n",
       "    </tr>\n",
       "    <tr>\n",
       "      <th>244</th>\n",
       "      <td>Wallis and Futuna</td>\n",
       "      <td>WF</td>\n",
       "    </tr>\n",
       "    <tr>\n",
       "      <th>245</th>\n",
       "      <td>Western Sahara</td>\n",
       "      <td>EH</td>\n",
       "    </tr>\n",
       "    <tr>\n",
       "      <th>246</th>\n",
       "      <td>Yemen</td>\n",
       "      <td>YE</td>\n",
       "    </tr>\n",
       "    <tr>\n",
       "      <th>247</th>\n",
       "      <td>Zambia</td>\n",
       "      <td>ZM</td>\n",
       "    </tr>\n",
       "    <tr>\n",
       "      <th>248</th>\n",
       "      <td>Zimbabwe</td>\n",
       "      <td>ZW</td>\n",
       "    </tr>\n",
       "  </tbody>\n",
       "</table>\n",
       "<p>249 rows × 2 columns</p>\n",
       "</div>"
      ],
      "text/plain": [
       "                  Name Code\n",
       "0          Afghanistan   AF\n",
       "1       Ã…land Islands   AX\n",
       "2              Albania   AL\n",
       "3              Algeria   DZ\n",
       "4       American Samoa   AS\n",
       "..                 ...  ...\n",
       "244  Wallis and Futuna   WF\n",
       "245     Western Sahara   EH\n",
       "246              Yemen   YE\n",
       "247             Zambia   ZM\n",
       "248           Zimbabwe   ZW\n",
       "\n",
       "[249 rows x 2 columns]"
      ]
     },
     "execution_count": 3,
     "metadata": {},
     "output_type": "execute_result"
    }
   ],
   "source": [
    "df_cn"
   ]
  },
  {
   "cell_type": "code",
   "execution_count": 3,
   "metadata": {},
   "outputs": [
    {
     "data": {
      "text/html": [
       "<div>\n",
       "<style scoped>\n",
       "    .dataframe tbody tr th:only-of-type {\n",
       "        vertical-align: middle;\n",
       "    }\n",
       "\n",
       "    .dataframe tbody tr th {\n",
       "        vertical-align: top;\n",
       "    }\n",
       "\n",
       "    .dataframe thead th {\n",
       "        text-align: right;\n",
       "    }\n",
       "</style>\n",
       "<table border=\"1\" class=\"dataframe\">\n",
       "  <thead>\n",
       "    <tr style=\"text-align: right;\">\n",
       "      <th></th>\n",
       "      <th>Name</th>\n",
       "      <th>Code</th>\n",
       "    </tr>\n",
       "  </thead>\n",
       "  <tbody>\n",
       "    <tr>\n",
       "      <th>0</th>\n",
       "      <td>Afghanistan</td>\n",
       "      <td>AF</td>\n",
       "    </tr>\n",
       "  </tbody>\n",
       "</table>\n",
       "</div>"
      ],
      "text/plain": [
       "          Name Code\n",
       "0  Afghanistan   AF"
      ]
     },
     "execution_count": 3,
     "metadata": {},
     "output_type": "execute_result"
    }
   ],
   "source": [
    "df_cn.head(1)   \n"
   ]
  },
  {
   "cell_type": "code",
   "execution_count": 4,
   "metadata": {},
   "outputs": [
    {
     "data": {
      "text/html": [
       "<div>\n",
       "<style scoped>\n",
       "    .dataframe tbody tr th:only-of-type {\n",
       "        vertical-align: middle;\n",
       "    }\n",
       "\n",
       "    .dataframe tbody tr th {\n",
       "        vertical-align: top;\n",
       "    }\n",
       "\n",
       "    .dataframe thead th {\n",
       "        text-align: right;\n",
       "    }\n",
       "</style>\n",
       "<table border=\"1\" class=\"dataframe\">\n",
       "  <thead>\n",
       "    <tr style=\"text-align: right;\">\n",
       "      <th></th>\n",
       "      <th>Code</th>\n",
       "      <th>Country</th>\n",
       "      <th>Currency</th>\n",
       "      <th>Number</th>\n",
       "      <th>ExchangeRate</th>\n",
       "    </tr>\n",
       "  </thead>\n",
       "  <tbody>\n",
       "    <tr>\n",
       "      <th>0</th>\n",
       "      <td>AED</td>\n",
       "      <td>United Arab Emirates (The)</td>\n",
       "      <td>UAE Dirham</td>\n",
       "      <td>784.0</td>\n",
       "      <td>3.672779</td>\n",
       "    </tr>\n",
       "  </tbody>\n",
       "</table>\n",
       "</div>"
      ],
      "text/plain": [
       "  Code                     Country    Currency  Number  ExchangeRate\n",
       "0  AED  United Arab Emirates (The)  UAE Dirham   784.0      3.672779"
      ]
     },
     "execution_count": 4,
     "metadata": {},
     "output_type": "execute_result"
    }
   ],
   "source": [
    "df_ce.head(1)   \n"
   ]
  },
  {
   "cell_type": "code",
   "execution_count": 5,
   "metadata": {},
   "outputs": [
    {
     "data": {
      "text/html": [
       "<div>\n",
       "<style scoped>\n",
       "    .dataframe tbody tr th:only-of-type {\n",
       "        vertical-align: middle;\n",
       "    }\n",
       "\n",
       "    .dataframe tbody tr th {\n",
       "        vertical-align: top;\n",
       "    }\n",
       "\n",
       "    .dataframe thead th {\n",
       "        text-align: right;\n",
       "    }\n",
       "</style>\n",
       "<table border=\"1\" class=\"dataframe\">\n",
       "  <thead>\n",
       "    <tr style=\"text-align: right;\">\n",
       "      <th></th>\n",
       "      <th>id</th>\n",
       "      <th>index</th>\n",
       "      <th>benefits.comments.val.city</th>\n",
       "      <th>benefits.comments.val.comment</th>\n",
       "      <th>benefits.comments.val.createDate</th>\n",
       "      <th>benefits.comments.val.currentJob</th>\n",
       "      <th>benefits.comments.val.jobTitle</th>\n",
       "      <th>benefits.comments.val.rating</th>\n",
       "      <th>benefits.comments.val.state</th>\n",
       "    </tr>\n",
       "  </thead>\n",
       "  <tbody>\n",
       "    <tr>\n",
       "      <th>0</th>\n",
       "      <td>401</td>\n",
       "      <td>NaN</td>\n",
       "      <td>NaN</td>\n",
       "      <td>NaN</td>\n",
       "      <td>NaN</td>\n",
       "      <td>NaN</td>\n",
       "      <td>NaN</td>\n",
       "      <td>NaN</td>\n",
       "      <td>NaN</td>\n",
       "    </tr>\n",
       "  </tbody>\n",
       "</table>\n",
       "</div>"
      ],
      "text/plain": [
       "    id  index benefits.comments.val.city benefits.comments.val.comment  \\\n",
       "0  401    NaN                        NaN                           NaN   \n",
       "\n",
       "  benefits.comments.val.createDate benefits.comments.val.currentJob  \\\n",
       "0                              NaN                              NaN   \n",
       "\n",
       "  benefits.comments.val.jobTitle  benefits.comments.val.rating  \\\n",
       "0                            NaN                           NaN   \n",
       "\n",
       "  benefits.comments.val.state  \n",
       "0                         NaN  "
      ]
     },
     "execution_count": 5,
     "metadata": {},
     "output_type": "execute_result"
    }
   ],
   "source": [
    "df_cex.head(1)\n"
   ]
  },
  {
   "cell_type": "code",
   "execution_count": 6,
   "metadata": {},
   "outputs": [
    {
     "data": {
      "text/html": [
       "<div>\n",
       "<style scoped>\n",
       "    .dataframe tbody tr th:only-of-type {\n",
       "        vertical-align: middle;\n",
       "    }\n",
       "\n",
       "    .dataframe tbody tr th {\n",
       "        vertical-align: top;\n",
       "    }\n",
       "\n",
       "    .dataframe thead th {\n",
       "        text-align: right;\n",
       "    }\n",
       "</style>\n",
       "<table border=\"1\" class=\"dataframe\">\n",
       "  <thead>\n",
       "    <tr style=\"text-align: right;\">\n",
       "      <th></th>\n",
       "      <th>id</th>\n",
       "      <th>benefits.highlights.val.highlightPhrase</th>\n",
       "      <th>benefits.highlights.val.icon</th>\n",
       "      <th>benefits.highlights.val.name</th>\n",
       "      <th>index</th>\n",
       "      <th>benefits.highlights.val.commentCount</th>\n",
       "    </tr>\n",
       "  </thead>\n",
       "  <tbody>\n",
       "    <tr>\n",
       "      <th>0</th>\n",
       "      <td>44001</td>\n",
       "      <td>good flexibility for working from home</td>\n",
       "      <td>wfh</td>\n",
       "      <td>Work From Home</td>\n",
       "      <td>0.0</td>\n",
       "      <td>17.0</td>\n",
       "    </tr>\n",
       "  </tbody>\n",
       "</table>\n",
       "</div>"
      ],
      "text/plain": [
       "      id benefits.highlights.val.highlightPhrase benefits.highlights.val.icon  \\\n",
       "0  44001  good flexibility for working from home                          wfh   \n",
       "\n",
       "  benefits.highlights.val.name  index  benefits.highlights.val.commentCount  \n",
       "0               Work From Home    0.0                                  17.0  "
      ]
     },
     "execution_count": 6,
     "metadata": {},
     "output_type": "execute_result"
    }
   ],
   "source": [
    "df_cnh.head(1) "
   ]
  },
  {
   "cell_type": "code",
   "execution_count": 7,
   "metadata": {},
   "outputs": [
    {
     "data": {
      "text/html": [
       "<div>\n",
       "<style scoped>\n",
       "    .dataframe tbody tr th:only-of-type {\n",
       "        vertical-align: middle;\n",
       "    }\n",
       "\n",
       "    .dataframe tbody tr th {\n",
       "        vertical-align: top;\n",
       "    }\n",
       "\n",
       "    .dataframe thead th {\n",
       "        text-align: right;\n",
       "    }\n",
       "</style>\n",
       "<table border=\"1\" class=\"dataframe\">\n",
       "  <thead>\n",
       "    <tr style=\"text-align: right;\">\n",
       "      <th></th>\n",
       "      <th>id</th>\n",
       "      <th>index</th>\n",
       "      <th>breadCrumbs.val.name</th>\n",
       "      <th>breadCrumbs.val.url</th>\n",
       "    </tr>\n",
       "  </thead>\n",
       "  <tbody>\n",
       "    <tr>\n",
       "      <th>0</th>\n",
       "      <td>40801</td>\n",
       "      <td>0</td>\n",
       "      <td>JOBS</td>\n",
       "      <td>/Job/index.htm</td>\n",
       "    </tr>\n",
       "  </tbody>\n",
       "</table>\n",
       "</div>"
      ],
      "text/plain": [
       "      id  index breadCrumbs.val.name breadCrumbs.val.url\n",
       "0  40801      0                 JOBS      /Job/index.htm"
      ]
     },
     "execution_count": 7,
     "metadata": {},
     "output_type": "execute_result"
    }
   ],
   "source": [
    "df_cnc.head(1)\n"
   ]
  },
  {
   "cell_type": "code",
   "execution_count": 8,
   "metadata": {},
   "outputs": [
    {
     "data": {
      "text/html": [
       "<div>\n",
       "<style scoped>\n",
       "    .dataframe tbody tr th:only-of-type {\n",
       "        vertical-align: middle;\n",
       "    }\n",
       "\n",
       "    .dataframe tbody tr th {\n",
       "        vertical-align: top;\n",
       "    }\n",
       "\n",
       "    .dataframe thead th {\n",
       "        text-align: right;\n",
       "    }\n",
       "</style>\n",
       "<table border=\"1\" class=\"dataframe\">\n",
       "  <thead>\n",
       "    <tr style=\"text-align: right;\">\n",
       "      <th></th>\n",
       "      <th>id</th>\n",
       "      <th>index</th>\n",
       "      <th>overview.competitors.val</th>\n",
       "    </tr>\n",
       "  </thead>\n",
       "  <tbody>\n",
       "    <tr>\n",
       "      <th>0</th>\n",
       "      <td>12526</td>\n",
       "      <td>0</td>\n",
       "      <td>Apple</td>\n",
       "    </tr>\n",
       "  </tbody>\n",
       "</table>\n",
       "</div>"
      ],
      "text/plain": [
       "      id  index overview.competitors.val\n",
       "0  12526      0                    Apple"
      ]
     },
     "execution_count": 8,
     "metadata": {},
     "output_type": "execute_result"
    }
   ],
   "source": [
    "df_goc.head(1)\n"
   ]
  },
  {
   "cell_type": "code",
   "execution_count": 9,
   "metadata": {},
   "outputs": [
    {
     "data": {
      "text/html": [
       "<div>\n",
       "<style scoped>\n",
       "    .dataframe tbody tr th:only-of-type {\n",
       "        vertical-align: middle;\n",
       "    }\n",
       "\n",
       "    .dataframe tbody tr th {\n",
       "        vertical-align: top;\n",
       "    }\n",
       "\n",
       "    .dataframe thead th {\n",
       "        text-align: right;\n",
       "    }\n",
       "</style>\n",
       "<table border=\"1\" class=\"dataframe\">\n",
       "  <thead>\n",
       "    <tr style=\"text-align: right;\">\n",
       "      <th></th>\n",
       "      <th>id</th>\n",
       "      <th>index</th>\n",
       "      <th>photos.val.caption</th>\n",
       "      <th>photos.val.photoId</th>\n",
       "      <th>photos.val.photoId2x</th>\n",
       "      <th>photos.val.photoLink</th>\n",
       "      <th>photos.val.photoUrl</th>\n",
       "      <th>photos.val.photoUrl2x</th>\n",
       "    </tr>\n",
       "  </thead>\n",
       "  <tbody>\n",
       "    <tr>\n",
       "      <th>0</th>\n",
       "      <td>26411</td>\n",
       "      <td>0</td>\n",
       "      <td>Mango day</td>\n",
       "      <td>10772510</td>\n",
       "      <td>10772511</td>\n",
       "      <td>/Photos/Afiniti-Office-Photos-IMG1912051.htm</td>\n",
       "      <td>https://media.glassdoor.com/lst/1436090/afinit...</td>\n",
       "      <td>https://media.glassdoor.com/lst2x/1436090/afin...</td>\n",
       "    </tr>\n",
       "  </tbody>\n",
       "</table>\n",
       "</div>"
      ],
      "text/plain": [
       "      id  index photos.val.caption  photos.val.photoId  photos.val.photoId2x  \\\n",
       "0  26411      0          Mango day            10772510              10772511   \n",
       "\n",
       "                           photos.val.photoLink  \\\n",
       "0  /Photos/Afiniti-Office-Photos-IMG1912051.htm   \n",
       "\n",
       "                                 photos.val.photoUrl  \\\n",
       "0  https://media.glassdoor.com/lst/1436090/afinit...   \n",
       "\n",
       "                               photos.val.photoUrl2x  \n",
       "0  https://media.glassdoor.com/lst2x/1436090/afin...  "
      ]
     },
     "execution_count": 9,
     "metadata": {},
     "output_type": "execute_result"
    }
   ],
   "source": [
    "df_f.head(1)\n"
   ]
  },
  {
   "cell_type": "code",
   "execution_count": 10,
   "metadata": {},
   "outputs": [
    {
     "data": {
      "text/html": [
       "<div>\n",
       "<style scoped>\n",
       "    .dataframe tbody tr th:only-of-type {\n",
       "        vertical-align: middle;\n",
       "    }\n",
       "\n",
       "    .dataframe tbody tr th {\n",
       "        vertical-align: top;\n",
       "    }\n",
       "\n",
       "    .dataframe thead th {\n",
       "        text-align: right;\n",
       "    }\n",
       "</style>\n",
       "<table border=\"1\" class=\"dataframe\">\n",
       "  <thead>\n",
       "    <tr style=\"text-align: right;\">\n",
       "      <th></th>\n",
       "      <th>id</th>\n",
       "      <th>index</th>\n",
       "      <th>reviews.val.reviewResponses.val.createDate</th>\n",
       "      <th>reviews.val.reviewResponses.val.helpfulCount</th>\n",
       "      <th>reviews.val.reviewResponses.val.jobTitle</th>\n",
       "      <th>reviews.val.reviewResponses.val.notHelpfulCount</th>\n",
       "      <th>reviews.val.reviewResponses.val.responseText</th>\n",
       "      <th>reviews.val.reviewResponses.val.responseTextLength</th>\n",
       "      <th>reviews.val.reviewResponses.val.totalHelpfulCount</th>\n",
       "      <th>reviews.val.reviewResponses.val.updateDate</th>\n",
       "    </tr>\n",
       "  </thead>\n",
       "  <tbody>\n",
       "    <tr>\n",
       "      <th>0</th>\n",
       "      <td>6762</td>\n",
       "      <td>0</td>\n",
       "      <td>2018-05-01T03:54:11</td>\n",
       "      <td>0</td>\n",
       "      <td>NaN</td>\n",
       "      <td>0</td>\n",
       "      <td>Thank you for your review.</td>\n",
       "      <td>26</td>\n",
       "      <td>0</td>\n",
       "      <td>2018-05-02T00:23:37</td>\n",
       "    </tr>\n",
       "  </tbody>\n",
       "</table>\n",
       "</div>"
      ],
      "text/plain": [
       "     id  index reviews.val.reviewResponses.val.createDate  \\\n",
       "0  6762      0                        2018-05-01T03:54:11   \n",
       "\n",
       "   reviews.val.reviewResponses.val.helpfulCount  \\\n",
       "0                                             0   \n",
       "\n",
       "  reviews.val.reviewResponses.val.jobTitle  \\\n",
       "0                                      NaN   \n",
       "\n",
       "   reviews.val.reviewResponses.val.notHelpfulCount  \\\n",
       "0                                                0   \n",
       "\n",
       "  reviews.val.reviewResponses.val.responseText  \\\n",
       "0                   Thank you for your review.   \n",
       "\n",
       "   reviews.val.reviewResponses.val.responseTextLength  \\\n",
       "0                                                 26    \n",
       "\n",
       "   reviews.val.reviewResponses.val.totalHelpfulCount  \\\n",
       "0                                                  0   \n",
       "\n",
       "  reviews.val.reviewResponses.val.updateDate  \n",
       "0                        2018-05-02T00:23:37  "
      ]
     },
     "execution_count": 10,
     "metadata": {},
     "output_type": "execute_result"
    }
   ],
   "source": [
    "df_grv.head(1)"
   ]
  },
  {
   "cell_type": "code",
   "execution_count": 11,
   "metadata": {},
   "outputs": [
    {
     "data": {
      "text/html": [
       "<div>\n",
       "<style scoped>\n",
       "    .dataframe tbody tr th:only-of-type {\n",
       "        vertical-align: middle;\n",
       "    }\n",
       "\n",
       "    .dataframe tbody tr th {\n",
       "        vertical-align: top;\n",
       "    }\n",
       "\n",
       "    .dataframe thead th {\n",
       "        text-align: right;\n",
       "    }\n",
       "</style>\n",
       "<table border=\"1\" class=\"dataframe\">\n",
       "  <thead>\n",
       "    <tr style=\"text-align: right;\">\n",
       "      <th></th>\n",
       "      <th>id</th>\n",
       "      <th>index</th>\n",
       "      <th>reviews.val.reviewResponses.val.createDate</th>\n",
       "      <th>reviews.val.reviewResponses.val.helpfulCount</th>\n",
       "      <th>reviews.val.reviewResponses.val.jobTitle</th>\n",
       "      <th>reviews.val.reviewResponses.val.notHelpfulCount</th>\n",
       "      <th>reviews.val.reviewResponses.val.responseText</th>\n",
       "      <th>reviews.val.reviewResponses.val.responseTextLength</th>\n",
       "      <th>reviews.val.reviewResponses.val.totalHelpfulCount</th>\n",
       "      <th>reviews.val.reviewResponses.val.updateDate</th>\n",
       "    </tr>\n",
       "  </thead>\n",
       "  <tbody>\n",
       "    <tr>\n",
       "      <th>0</th>\n",
       "      <td>6762</td>\n",
       "      <td>0</td>\n",
       "      <td>2018-05-01T03:54:11</td>\n",
       "      <td>0</td>\n",
       "      <td>NaN</td>\n",
       "      <td>0</td>\n",
       "      <td>Thank you for your review.</td>\n",
       "      <td>26</td>\n",
       "      <td>0</td>\n",
       "      <td>2018-05-02T00:23:37</td>\n",
       "    </tr>\n",
       "  </tbody>\n",
       "</table>\n",
       "</div>"
      ],
      "text/plain": [
       "     id  index reviews.val.reviewResponses.val.createDate  \\\n",
       "0  6762      0                        2018-05-01T03:54:11   \n",
       "\n",
       "   reviews.val.reviewResponses.val.helpfulCount  \\\n",
       "0                                             0   \n",
       "\n",
       "  reviews.val.reviewResponses.val.jobTitle  \\\n",
       "0                                      NaN   \n",
       "\n",
       "   reviews.val.reviewResponses.val.notHelpfulCount  \\\n",
       "0                                                0   \n",
       "\n",
       "  reviews.val.reviewResponses.val.responseText  \\\n",
       "0                   Thank you for your review.   \n",
       "\n",
       "   reviews.val.reviewResponses.val.responseTextLength  \\\n",
       "0                                                 26    \n",
       "\n",
       "   reviews.val.reviewResponses.val.totalHelpfulCount  \\\n",
       "0                                                  0   \n",
       "\n",
       "  reviews.val.reviewResponses.val.updateDate  \n",
       "0                        2018-05-02T00:23:37  "
      ]
     },
     "execution_count": 11,
     "metadata": {},
     "output_type": "execute_result"
    }
   ],
   "source": [
    "df_grv.head(1)\n"
   ]
  },
  {
   "cell_type": "code",
   "execution_count": 12,
   "metadata": {},
   "outputs": [
    {
     "data": {
      "text/html": [
       "<div>\n",
       "<style scoped>\n",
       "    .dataframe tbody tr th:only-of-type {\n",
       "        vertical-align: middle;\n",
       "    }\n",
       "\n",
       "    .dataframe tbody tr th {\n",
       "        vertical-align: top;\n",
       "    }\n",
       "\n",
       "    .dataframe thead th {\n",
       "        text-align: right;\n",
       "    }\n",
       "</style>\n",
       "<table border=\"1\" class=\"dataframe\">\n",
       "  <thead>\n",
       "    <tr style=\"text-align: right;\">\n",
       "      <th></th>\n",
       "      <th>id</th>\n",
       "      <th>index</th>\n",
       "      <th>reviews.val.cons</th>\n",
       "      <th>reviews.val.date</th>\n",
       "      <th>reviews.val.featured</th>\n",
       "      <th>reviews.val.helpfulCount</th>\n",
       "      <th>reviews.val.id</th>\n",
       "      <th>reviews.val.pros</th>\n",
       "      <th>reviews.val.publishedOn</th>\n",
       "      <th>reviews.val.publisher</th>\n",
       "      <th>...</th>\n",
       "      <th>reviews.val.reviewerJobTitle</th>\n",
       "      <th>reviews.val.reviewerLocation</th>\n",
       "      <th>reviews.val.reviewerStatus</th>\n",
       "      <th>reviews.val.summaryPoints.ceoApproval</th>\n",
       "      <th>reviews.val.summaryPoints.outlook</th>\n",
       "      <th>reviews.val.summaryPoints.recommend</th>\n",
       "      <th>reviews.val.title</th>\n",
       "      <th>reviews.val.adviceToManagement</th>\n",
       "      <th>reviews.val.companyResponse</th>\n",
       "      <th>reviews.val.reviewResponses</th>\n",
       "    </tr>\n",
       "  </thead>\n",
       "  <tbody>\n",
       "    <tr>\n",
       "      <th>0</th>\n",
       "      <td>44001</td>\n",
       "      <td>0.0</td>\n",
       "      <td>Still not big enough in market place</td>\n",
       "      <td>Oct 20, 2010</td>\n",
       "      <td>False</td>\n",
       "      <td>0.0</td>\n",
       "      <td>689142.0</td>\n",
       "      <td>Great brand , Good leadership , Clear business...</td>\n",
       "      <td>Oct 20, 2010</td>\n",
       "      <td>Director</td>\n",
       "      <td>...</td>\n",
       "      <td>Director</td>\n",
       "      <td>Tokyo (Japan)</td>\n",
       "      <td>Former Employee</td>\n",
       "      <td>1.0</td>\n",
       "      <td>0.0</td>\n",
       "      <td>1.0</td>\n",
       "      <td>American Express Japan - Excellent place to work</td>\n",
       "      <td>None</td>\n",
       "      <td>NaN</td>\n",
       "      <td>NaN</td>\n",
       "    </tr>\n",
       "  </tbody>\n",
       "</table>\n",
       "<p>1 rows × 28 columns</p>\n",
       "</div>"
      ],
      "text/plain": [
       "      id  index                      reviews.val.cons reviews.val.date  \\\n",
       "0  44001    0.0  Still not big enough in market place     Oct 20, 2010   \n",
       "\n",
       "  reviews.val.featured  reviews.val.helpfulCount  reviews.val.id  \\\n",
       "0                False                       0.0        689142.0   \n",
       "\n",
       "                                    reviews.val.pros reviews.val.publishedOn  \\\n",
       "0  Great brand , Good leadership , Clear business...            Oct 20, 2010   \n",
       "\n",
       "  reviews.val.publisher  ...  reviews.val.reviewerJobTitle  \\\n",
       "0              Director  ...                      Director   \n",
       "\n",
       "   reviews.val.reviewerLocation  reviews.val.reviewerStatus  \\\n",
       "0                 Tokyo (Japan)             Former Employee   \n",
       "\n",
       "   reviews.val.summaryPoints.ceoApproval  reviews.val.summaryPoints.outlook  \\\n",
       "0                                    1.0                                0.0   \n",
       "\n",
       "   reviews.val.summaryPoints.recommend  \\\n",
       "0                                  1.0   \n",
       "\n",
       "                                  reviews.val.title  \\\n",
       "0  American Express Japan - Excellent place to work   \n",
       "\n",
       "  reviews.val.adviceToManagement reviews.val.companyResponse  \\\n",
       "0                           None                         NaN   \n",
       "\n",
       "  reviews.val.reviewResponses  \n",
       "0                         NaN  \n",
       "\n",
       "[1 rows x 28 columns]"
      ]
     },
     "execution_count": 12,
     "metadata": {},
     "output_type": "execute_result"
    }
   ],
   "source": [
    "df_gr.head(1)\n"
   ]
  },
  {
   "cell_type": "code",
   "execution_count": 13,
   "metadata": {},
   "outputs": [
    {
     "data": {
      "text/html": [
       "<div>\n",
       "<style scoped>\n",
       "    .dataframe tbody tr th:only-of-type {\n",
       "        vertical-align: middle;\n",
       "    }\n",
       "\n",
       "    .dataframe tbody tr th {\n",
       "        vertical-align: top;\n",
       "    }\n",
       "\n",
       "    .dataframe thead th {\n",
       "        text-align: right;\n",
       "    }\n",
       "</style>\n",
       "<table border=\"1\" class=\"dataframe\">\n",
       "  <thead>\n",
       "    <tr style=\"text-align: right;\">\n",
       "      <th></th>\n",
       "      <th>id</th>\n",
       "      <th>index</th>\n",
       "      <th>salary.salaries.val.basePayCount</th>\n",
       "      <th>salary.salaries.val.jobTitle</th>\n",
       "      <th>salary.salaries.val.payPeriod</th>\n",
       "      <th>salary.salaries.val.salaryPercentileMap.payPercentile10</th>\n",
       "      <th>salary.salaries.val.salaryPercentileMap.payPercentile90</th>\n",
       "      <th>salary.salaries.val.salaryPercentileMap.payPercentile50</th>\n",
       "      <th>salary.salaries.val.salaryType</th>\n",
       "    </tr>\n",
       "  </thead>\n",
       "  <tbody>\n",
       "    <tr>\n",
       "      <th>0</th>\n",
       "      <td>1</td>\n",
       "      <td>NaN</td>\n",
       "      <td>NaN</td>\n",
       "      <td>NaN</td>\n",
       "      <td>NaN</td>\n",
       "      <td>NaN</td>\n",
       "      <td>NaN</td>\n",
       "      <td>NaN</td>\n",
       "      <td>NaN</td>\n",
       "    </tr>\n",
       "  </tbody>\n",
       "</table>\n",
       "</div>"
      ],
      "text/plain": [
       "   id  index  salary.salaries.val.basePayCount salary.salaries.val.jobTitle  \\\n",
       "0   1    NaN                               NaN                          NaN   \n",
       "\n",
       "  salary.salaries.val.payPeriod  \\\n",
       "0                           NaN   \n",
       "\n",
       "   salary.salaries.val.salaryPercentileMap.payPercentile10  \\\n",
       "0                                                NaN         \n",
       "\n",
       "   salary.salaries.val.salaryPercentileMap.payPercentile90  \\\n",
       "0                                                NaN         \n",
       "\n",
       "   salary.salaries.val.salaryPercentileMap.payPercentile50  \\\n",
       "0                                                NaN         \n",
       "\n",
       "  salary.salaries.val.salaryType  \n",
       "0                            NaN  "
      ]
     },
     "execution_count": 13,
     "metadata": {},
     "output_type": "execute_result"
    }
   ],
   "source": [
    "df_gss.head(1)\n"
   ]
  },
  {
   "cell_type": "code",
   "execution_count": 14,
   "metadata": {},
   "outputs": [
    {
     "data": {
      "text/html": [
       "<div>\n",
       "<style scoped>\n",
       "    .dataframe tbody tr th:only-of-type {\n",
       "        vertical-align: middle;\n",
       "    }\n",
       "\n",
       "    .dataframe tbody tr th {\n",
       "        vertical-align: top;\n",
       "    }\n",
       "\n",
       "    .dataframe thead th {\n",
       "        text-align: right;\n",
       "    }\n",
       "</style>\n",
       "<table border=\"1\" class=\"dataframe\">\n",
       "  <thead>\n",
       "    <tr style=\"text-align: right;\">\n",
       "      <th></th>\n",
       "      <th>id</th>\n",
       "      <th>index</th>\n",
       "      <th>wwfu.val.captions.val</th>\n",
       "    </tr>\n",
       "  </thead>\n",
       "  <tbody>\n",
       "    <tr>\n",
       "      <th>0</th>\n",
       "      <td>1407</td>\n",
       "      <td>0</td>\n",
       "      <td>Our interview process</td>\n",
       "    </tr>\n",
       "  </tbody>\n",
       "</table>\n",
       "</div>"
      ],
      "text/plain": [
       "     id  index  wwfu.val.captions.val\n",
       "0  1407      0  Our interview process"
      ]
     },
     "execution_count": 14,
     "metadata": {},
     "output_type": "execute_result"
    }
   ],
   "source": [
    "df_gwv.head(1)\n"
   ]
  },
  {
   "cell_type": "code",
   "execution_count": 15,
   "metadata": {},
   "outputs": [
    {
     "data": {
      "text/html": [
       "<div>\n",
       "<style scoped>\n",
       "    .dataframe tbody tr th:only-of-type {\n",
       "        vertical-align: middle;\n",
       "    }\n",
       "\n",
       "    .dataframe tbody tr th {\n",
       "        vertical-align: top;\n",
       "    }\n",
       "\n",
       "    .dataframe thead th {\n",
       "        text-align: right;\n",
       "    }\n",
       "</style>\n",
       "<table border=\"1\" class=\"dataframe\">\n",
       "  <thead>\n",
       "    <tr style=\"text-align: right;\">\n",
       "      <th></th>\n",
       "      <th>id</th>\n",
       "      <th>index</th>\n",
       "      <th>wwfu.val.photos.val</th>\n",
       "    </tr>\n",
       "  </thead>\n",
       "  <tbody>\n",
       "    <tr>\n",
       "      <th>0</th>\n",
       "      <td>2370</td>\n",
       "      <td>0</td>\n",
       "      <td>https://media.glassdoor.com/template/l/40772/f...</td>\n",
       "    </tr>\n",
       "  </tbody>\n",
       "</table>\n",
       "</div>"
      ],
      "text/plain": [
       "     id  index                                wwfu.val.photos.val\n",
       "0  2370      0  https://media.glassdoor.com/template/l/40772/f..."
      ]
     },
     "execution_count": 15,
     "metadata": {},
     "output_type": "execute_result"
    }
   ],
   "source": [
    "df_gwvp.head(1)\n"
   ]
  },
  {
   "cell_type": "code",
   "execution_count": 16,
   "metadata": {},
   "outputs": [
    {
     "data": {
      "text/html": [
       "<div>\n",
       "<style scoped>\n",
       "    .dataframe tbody tr th:only-of-type {\n",
       "        vertical-align: middle;\n",
       "    }\n",
       "\n",
       "    .dataframe tbody tr th {\n",
       "        vertical-align: top;\n",
       "    }\n",
       "\n",
       "    .dataframe thead th {\n",
       "        text-align: right;\n",
       "    }\n",
       "</style>\n",
       "<table border=\"1\" class=\"dataframe\">\n",
       "  <thead>\n",
       "    <tr style=\"text-align: right;\">\n",
       "      <th></th>\n",
       "      <th>id</th>\n",
       "      <th>index</th>\n",
       "      <th>wwfu.val.videos.val</th>\n",
       "    </tr>\n",
       "  </thead>\n",
       "  <tbody>\n",
       "    <tr>\n",
       "      <th>0</th>\n",
       "      <td>4327</td>\n",
       "      <td>0</td>\n",
       "      <td>&lt;iframe width=\"560\" height=\"315\" src=\"https://...</td>\n",
       "    </tr>\n",
       "  </tbody>\n",
       "</table>\n",
       "</div>"
      ],
      "text/plain": [
       "     id  index                                wwfu.val.videos.val\n",
       "0  4327      0  <iframe width=\"560\" height=\"315\" src=\"https://..."
      ]
     },
     "execution_count": 16,
     "metadata": {},
     "output_type": "execute_result"
    }
   ],
   "source": [
    "df_gwvv.head(1)\n"
   ]
  },
  {
   "cell_type": "code",
   "execution_count": 17,
   "metadata": {},
   "outputs": [
    {
     "data": {
      "text/html": [
       "<div>\n",
       "<style scoped>\n",
       "    .dataframe tbody tr th:only-of-type {\n",
       "        vertical-align: middle;\n",
       "    }\n",
       "\n",
       "    .dataframe tbody tr th {\n",
       "        vertical-align: top;\n",
       "    }\n",
       "\n",
       "    .dataframe thead th {\n",
       "        text-align: right;\n",
       "    }\n",
       "</style>\n",
       "<table border=\"1\" class=\"dataframe\">\n",
       "  <thead>\n",
       "    <tr style=\"text-align: right;\">\n",
       "      <th></th>\n",
       "      <th>id</th>\n",
       "      <th>index</th>\n",
       "      <th>wwfu.val.body</th>\n",
       "      <th>wwfu.val.id</th>\n",
       "      <th>wwfu.val.title</th>\n",
       "      <th>wwfu.val.type</th>\n",
       "      <th>wwfu.val.videos</th>\n",
       "      <th>wwfu.val.photos</th>\n",
       "      <th>wwfu.val.captions</th>\n",
       "    </tr>\n",
       "  </thead>\n",
       "  <tbody>\n",
       "    <tr>\n",
       "      <th>0</th>\n",
       "      <td>449</td>\n",
       "      <td>0</td>\n",
       "      <td>&lt;p&gt;&lt;img class=\"lazy\" style=\"display: block; ma...</td>\n",
       "      <td>133403</td>\n",
       "      <td>About Us</td>\n",
       "      <td>CUSTOM</td>\n",
       "      <td>NaN</td>\n",
       "      <td>NaN</td>\n",
       "      <td>NaN</td>\n",
       "    </tr>\n",
       "  </tbody>\n",
       "</table>\n",
       "</div>"
      ],
      "text/plain": [
       "    id  index                                      wwfu.val.body  wwfu.val.id  \\\n",
       "0  449      0  <p><img class=\"lazy\" style=\"display: block; ma...       133403   \n",
       "\n",
       "  wwfu.val.title wwfu.val.type  wwfu.val.videos  wwfu.val.photos  \\\n",
       "0       About Us        CUSTOM              NaN              NaN   \n",
       "\n",
       "   wwfu.val.captions  \n",
       "0                NaN  "
      ]
     },
     "execution_count": 17,
     "metadata": {},
     "output_type": "execute_result"
    }
   ],
   "source": [
    "df_gww.head(1)\n"
   ]
  },
  {
   "cell_type": "code",
   "execution_count": null,
   "metadata": {},
   "outputs": [],
   "source": [
    "df_g.head(1)"
   ]
  },
  {
   "cell_type": "code",
   "execution_count": 47,
   "metadata": {},
   "outputs": [],
   "source": [
    "# Dividimos el DataFrame en cuatro DataFrames\n",
    "df_gs = np.array_split(df_g, 8, axis=1)"
   ]
  },
  {
   "cell_type": "code",
   "execution_count": 48,
   "metadata": {},
   "outputs": [],
   "source": [
    "# Asigna cada DataFrame a una variable\n",
    "df_g1 = df_gs[0]\n",
    "df_g2 = df_gs[1]\n",
    "df_g3 = df_gs[2]\n",
    "df_g4 = df_gs[3]\n",
    "df_g5 = df_gs[4]\n",
    "df_g6 = df_gs[5]\n",
    "df_g7 = df_gs[6]\n",
    "df_g8 = df_gs[7]"
   ]
  },
  {
   "cell_type": "code",
   "execution_count": 168,
   "metadata": {},
   "outputs": [
    {
     "data": {
      "text/plain": [
       "array([nan, 310.0, 311.0, ..., 6613.0, 6614.0, 6615.0], dtype=object)"
      ]
     },
     "execution_count": 168,
     "metadata": {},
     "output_type": "execute_result"
    }
   ],
   "source": [
    "df_g8[\"wwfu\"].unique()"
   ]
  },
  {
   "cell_type": "code",
   "execution_count": null,
   "metadata": {},
   "outputs": [],
   "source": [
    "salary.country.name\n",
    "salary.country.population\n",
    "salary.country.shortName\n",
    "salary.currency.currencyCode\n",
    "salary.salaries\n",
    "wwfu"
   ]
  },
  {
   "cell_type": "code",
   "execution_count": 169,
   "metadata": {},
   "outputs": [],
   "source": [
    "#df_g8"
   ]
  },
  {
   "cell_type": "code",
   "execution_count": 119,
   "metadata": {},
   "outputs": [],
   "source": [
    "#df_g1\n",
    "#df_g2\n",
    "#df_g3\n",
    "#df_g4\n",
    "#df_g5\n",
    "#df_g6\n",
    "#df_g7\n",
    "#df_g8"
   ]
  },
  {
   "cell_type": "code",
   "execution_count": 128,
   "metadata": {},
   "outputs": [
    {
     "data": {
      "text/plain": [
       "array(['C', 'N', 'S', nan], dtype=object)"
      ]
     },
     "execution_count": 128,
     "metadata": {},
     "output_type": "execute_result"
    }
   ],
   "source": [
    "df_selec3[\"header.locationType\"].unique()"
   ]
  },
  {
   "cell_type": "code",
   "execution_count": 171,
   "metadata": {},
   "outputs": [],
   "source": [
    "# Selecciono ciertas columnas \n",
    "#df_selec1 = df_g1[[\"benefits.numRatings\", \"gaTrackerData.empId\", \"gaTrackerData.empName\",\"gaTrackerData.empSize\", \"gaTrackerData.industry\",\"gaTrackerData.industryId\", \"gaTrackerData.jobTitle\", \"gaTrackerData.location\",\"gaTrackerData.locationId\"]]\n",
    "#df_selec2 = df_g2[[\"gaTrackerData.sectorId\", \"header.advertiserType\"]]\n",
    "#df_selec3 = df_g3[[\"header.jobTitle\",\"header.locId\", \"header.location\", \"header.rating\",\"header.normalizedJobTitle\"]]\n",
    "#df_selec4 = df_g4[[\"header.payHigh\",\"header.payLow\", \"header.payMed\",\"header.payPeriod\", \"header.salaryHigh\",\"job.description\",\"job.jobTitleId\"]]\n",
    "#df_selec5 = df_g5[[\"map.country\",\"map.employerName\", \"map.lat\",\"map.lng\", \"map.location\",\"overview.hq\",\"overview.industry\",\"overview.revenue\",\"overview.sectorId\",\"overview.size\"]]\n",
    "#df_selec6 = df_g6[[\"rating.ceo.name\"]]\n",
    "#df_selec7 = df_g7[[\"salary.country.continent.id\",\"salary.country.countryFIPS\", \"salary.country.currency.currencyCode\",\"salary.country.currency.displayName\", \"salary.country.currency.id\",\"salary.country.currency.name\",\"salary.country.currencyCode\"]]\n",
    "df_selec8 = df_g8[[\"salary.country.name\",\"salary.country.population\", \"salary.country.shortName\",\"salary.currency.currencyCode\",\"salary.salaries\",\"wwfu\"]]"
   ]
  },
  {
   "cell_type": "code",
   "execution_count": 132,
   "metadata": {},
   "outputs": [],
   "source": [
    "#df_selec4"
   ]
  },
  {
   "cell_type": "code",
   "execution_count": 112,
   "metadata": {},
   "outputs": [],
   "source": [
    "#df_selec4.head()"
   ]
  },
  {
   "cell_type": "code",
   "execution_count": 172,
   "metadata": {},
   "outputs": [
    {
     "data": {
      "text/plain": [
       "salary.country.name              88513\n",
       "salary.country.population        88513\n",
       "salary.country.shortName         88513\n",
       "salary.currency.currencyCode     88513\n",
       "salary.salaries                  18141\n",
       "wwfu                            146549\n",
       "dtype: int64"
      ]
     },
     "execution_count": 172,
     "metadata": {},
     "output_type": "execute_result"
    }
   ],
   "source": [
    "#df_selec1.isnull().sum()\n",
    "#df_selec2.isnull().sum()\n",
    "#df_selec3.isnull().sum()\n",
    "#df_selec4.isnull().sum()\n",
    "#df_selec5.isnull().sum()\n",
    "#df_selec6.isnull().sum()\n",
    "#df_selec7.isnull().sum()\n",
    "df_selec8.isnull().sum()"
   ]
  },
  {
   "cell_type": "code",
   "execution_count": 173,
   "metadata": {},
   "outputs": [
    {
     "data": {
      "text/plain": [
       "18140"
      ]
     },
     "execution_count": 173,
     "metadata": {},
     "output_type": "execute_result"
    }
   ],
   "source": [
    "#df_selec1.duplicated().sum()\n",
    "#df_selec2.duplicated().sum()\n",
    "#df_selec3.duplicated().sum()\n",
    "#df_selec4.duplicated().sum()\n",
    "#df_selec5.duplicated().sum()\n",
    "#df_selec6.duplicated().sum()\n",
    "#df_selec7.duplicated().sum()\n",
    "df_selec8.duplicated().sum()"
   ]
  },
  {
   "cell_type": "code",
   "execution_count": 174,
   "metadata": {},
   "outputs": [
    {
     "name": "stdout",
     "output_type": "stream",
     "text": [
      "<class 'pandas.core.frame.DataFrame'>\n",
      "RangeIndex: 165290 entries, 0 to 165289\n",
      "Data columns (total 6 columns):\n",
      " #   Column                        Non-Null Count   Dtype \n",
      "---  ------                        --------------   ----- \n",
      " 0   salary.country.name           76777 non-null   object\n",
      " 1   salary.country.population     76777 non-null   object\n",
      " 2   salary.country.shortName      76777 non-null   object\n",
      " 3   salary.currency.currencyCode  76777 non-null   object\n",
      " 4   salary.salaries               147149 non-null  object\n",
      " 5   wwfu                          18741 non-null   object\n",
      "dtypes: object(6)\n",
      "memory usage: 7.6+ MB\n"
     ]
    }
   ],
   "source": [
    "#df_selec1.info()\n",
    "#df_selec2.info()\n",
    "#df_selec3.info()\n",
    "#df_selec4.info()\n",
    "#df_selec5.info()\n",
    "#df_selec6.info()\n",
    "#df_selec7.info()\n",
    "df_selec8.info()"
   ]
  }
 ],
 "metadata": {
  "kernelspec": {
   "display_name": "Python 3",
   "language": "python",
   "name": "python3"
  },
  "language_info": {
   "codemirror_mode": {
    "name": "ipython",
    "version": 3
   },
   "file_extension": ".py",
   "mimetype": "text/x-python",
   "name": "python",
   "nbconvert_exporter": "python",
   "pygments_lexer": "ipython3",
   "version": "3.10.4"
  },
  "orig_nbformat": 4
 },
 "nbformat": 4,
 "nbformat_minor": 2
}
